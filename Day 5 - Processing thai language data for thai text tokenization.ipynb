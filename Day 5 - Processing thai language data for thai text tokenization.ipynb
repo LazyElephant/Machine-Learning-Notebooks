{
 "cells": [
  {
   "cell_type": "code",
   "execution_count": 15,
   "metadata": {
    "collapsed": true
   },
   "outputs": [],
   "source": [
    "import pandas as pd\n",
    "import numpy as np\n",
    "import os\n",
    "import string\n",
    "\n",
    "%matplotlib inline"
   ]
  },
  {
   "cell_type": "code",
   "execution_count": 16,
   "metadata": {
    "collapsed": true
   },
   "outputs": [],
   "source": [
    "base_url = \"datasets/thai\"\n",
    "df = pd.read_csv(os.path.join(base_url, 'thai-wikipedia-corpus.csv'), delimiter='\\n')\n",
    "df.columns = ['text']"
   ]
  },
  {
   "cell_type": "code",
   "execution_count": 17,
   "metadata": {},
   "outputs": [
    {
     "data": {
      "text/html": [
       "<div>\n",
       "<style>\n",
       "    .dataframe thead tr:only-child th {\n",
       "        text-align: right;\n",
       "    }\n",
       "\n",
       "    .dataframe thead th {\n",
       "        text-align: left;\n",
       "    }\n",
       "\n",
       "    .dataframe tbody tr th {\n",
       "        vertical-align: top;\n",
       "    }\n",
       "</style>\n",
       "<table border=\"1\" class=\"dataframe\">\n",
       "  <thead>\n",
       "    <tr style=\"text-align: right;\">\n",
       "      <th></th>\n",
       "      <th>text</th>\n",
       "    </tr>\n",
       "  </thead>\n",
       "  <tbody>\n",
       "    <tr>\n",
       "      <th>0</th>\n",
       "      <td>นาโนเซนเซอร์,\"นาโน เซนเซอร์  นาโน เซนเซอร์    ...</td>\n",
       "    </tr>\n",
       "    <tr>\n",
       "      <th>1</th>\n",
       "      <td>ไอ้แมงปอแมน ฮีโร่ซุปเปอร์รั่ว,\"ไอ้ แมง ปอ แมน ...</td>\n",
       "    </tr>\n",
       "    <tr>\n",
       "      <th>2</th>\n",
       "      <td>โบเลโร (ราแวล),\"โบ เล  โร ( รา แวล    ) โบ เล ...</td>\n",
       "    </tr>\n",
       "    <tr>\n",
       "      <th>3</th>\n",
       "      <td>เฉิน เฉียวเอิน,\"เฉิน    เฉียว  เอินเฉิน    เฉี...</td>\n",
       "    </tr>\n",
       "    <tr>\n",
       "      <th>4</th>\n",
       "      <td>มิสเตอร์โกลบอล,\"มิสเตอร์ โกลบอล  มิสเตอร์ โกลบ...</td>\n",
       "    </tr>\n",
       "  </tbody>\n",
       "</table>\n",
       "</div>"
      ],
      "text/plain": [
       "                                                text\n",
       "0  นาโนเซนเซอร์,\"นาโน เซนเซอร์  นาโน เซนเซอร์    ...\n",
       "1  ไอ้แมงปอแมน ฮีโร่ซุปเปอร์รั่ว,\"ไอ้ แมง ปอ แมน ...\n",
       "2  โบเลโร (ราแวล),\"โบ เล  โร ( รา แวล    ) โบ เล ...\n",
       "3  เฉิน เฉียวเอิน,\"เฉิน    เฉียว  เอินเฉิน    เฉี...\n",
       "4  มิสเตอร์โกลบอล,\"มิสเตอร์ โกลบอล  มิสเตอร์ โกลบ..."
      ]
     },
     "execution_count": 17,
     "metadata": {},
     "output_type": "execute_result"
    }
   ],
   "source": [
    "df.head()"
   ]
  },
  {
   "cell_type": "markdown",
   "metadata": {},
   "source": [
    "## Create the character dictionaries\n",
    "\n",
    "Since this will be a character-level model, the first step is to generate a set of unique characters in the text."
   ]
  },
  {
   "cell_type": "code",
   "execution_count": 27,
   "metadata": {},
   "outputs": [
    {
     "data": {
      "text/plain": [
       "261"
      ]
     },
     "execution_count": 27,
     "metadata": {},
     "output_type": "execute_result"
    }
   ],
   "source": [
    "# an alternative to doing this myself would be to use the keras Tokenizer\n",
    "texts = df['text'].values.tolist()\n",
    "characters = sorted(set(''.join(texts)))\n",
    "len(characters)"
   ]
  },
  {
   "cell_type": "markdown",
   "metadata": {},
   "source": [
    "261 characters is significantly more than expected.  Thai contains 44 consonants, 21 vowels, 4 tone markers, 10 number symbols (but they mostly use 0-9, so 20 possible), and several other characters.  This comes close to 100 characters"
   ]
  },
  {
   "cell_type": "code",
   "execution_count": 29,
   "metadata": {},
   "outputs": [
    {
     "data": {
      "text/plain": [
       "' !\"#$%&\\'()*+,-./0123456789:;=?@ABCDEFGHIJKLMNOPQRSTUVWXYZ[\\\\]^_`abcdefghijklmnopqrstuvwxyz{|}~°²³·¹½×ʻ́̆̈̊ΩЂЄЅІЈЉЊЋЏАБВГДЕЖЗИКЛМНОПРСТУФХЦЧШЩЭѠѤѮѰѲѺѾҀҊҌҎҐกขฃคฅฆงจฉชซฌญฎฏฐฑฒณดตถทธนบปผฝพฟภมยรฤลฦวศษสหฬอฮฯะัาำิีึืฺุู฿เแโใไๅๆ็่้๊๋์ํ๎๏๐๑๒๓๔๕๖๗๘๙๚๛\\u200b\\u200c\\u200d–’“”†…′∀−⋯★☆♪しち・字漢'"
      ]
     },
     "execution_count": 29,
     "metadata": {},
     "output_type": "execute_result"
    }
   ],
   "source": [
    "''.join(characters)"
   ]
  },
  {
   "cell_type": "markdown",
   "metadata": {},
   "source": [
    "So the data set contains a lot of punctuation marks, the entire english alphabet (upper and lower), cyrillic characters, and other foreign characters."
   ]
  },
  {
   "cell_type": "code",
   "execution_count": 37,
   "metadata": {},
   "outputs": [
    {
     "data": {
      "text/plain": [
       "'กขฃคฅฆงจฉชซฌญฎฏฐฑฒณดตถทธนบปผฝพฟภมยรฤลฦวศษสหฬอฮฯะัาำิีึืฺุู฿เแโใไๅๆ็่้๊๋์ํ๎๏๐๑๒๓๔๕๖๗๘๙๚๛'"
      ]
     },
     "execution_count": 37,
     "metadata": {},
     "output_type": "execute_result"
    }
   ],
   "source": [
    "thai_start = characters.index('ก')\n",
    "thai_end = characters.index('๛')\n",
    "thai_characters = ''.join(characters[thai_start:thai_end+1])\n",
    "thai_characters"
   ]
  },
  {
   "cell_type": "markdown",
   "metadata": {},
   "source": [
    "For the initial model, I'm not going to remove any symbols (although I should) because I want to see the results.  For the future though, a lot of the punctuation, the cyrillic, the english, and the unicode characters outside the thai range could most likely be replaced."
   ]
  },
  {
   "cell_type": "code",
   "execution_count": 5,
   "metadata": {},
   "outputs": [
    {
     "data": {
      "text/plain": [
       "count     98193.000000\n",
       "mean       1857.772214\n",
       "std        4000.303013\n",
       "min           8.000000\n",
       "25%         342.000000\n",
       "50%         813.000000\n",
       "75%        1821.000000\n",
       "max      119388.000000\n",
       "Name: lengths, dtype: float64"
      ]
     },
     "execution_count": 5,
     "metadata": {},
     "output_type": "execute_result"
    }
   ],
   "source": [
    "# finally create the dictionaries to convert to and from integer encodings\n",
    "int_to_char = {k: v for k, v in enumerate(characters)}\n",
    "char_to_int = {v: k for k, v in enumerate(characters)}\n",
    "num_classes = len(characters)"
   ]
  },
  {
   "cell_type": "markdown",
   "metadata": {},
   "source": [
    "## Generate Samples\n",
    "\n",
    "Time to start converting the data to a form suitable for feeding into a ANN.  First, I need to see how long the text samples are."
   ]
  },
  {
   "cell_type": "code",
   "execution_count": 40,
   "metadata": {},
   "outputs": [
    {
     "data": {
      "text/plain": [
       "count     98193.000000\n",
       "mean       1857.772214\n",
       "std        4000.303013\n",
       "min           8.000000\n",
       "25%         342.000000\n",
       "50%         813.000000\n",
       "75%        1821.000000\n",
       "max      119388.000000\n",
       "Name: lengths, dtype: float64"
      ]
     },
     "execution_count": 40,
     "metadata": {},
     "output_type": "execute_result"
    }
   ],
   "source": [
    "df['lengths'] = df['text'].map(lambda s: len(s))\n",
    "df['lengths'].describe()"
   ]
  },
  {
   "cell_type": "markdown",
   "metadata": {},
   "source": [
    "Max value 119388, 75th percentile value 1821, it looks like most of the data is less than 1000 characters long but there's a large variation in the sample lengths."
   ]
  },
  {
   "cell_type": "code",
   "execution_count": 38,
   "metadata": {},
   "outputs": [
    {
     "data": {
      "text/plain": [
       "<matplotlib.axes._subplots.AxesSubplot at 0x2295e343208>"
      ]
     },
     "execution_count": 38,
     "metadata": {},
     "output_type": "execute_result"
    },
    {
     "data": {
      "image/png": "[encoded data removed]",
      "text/plain": [
       "<matplotlib.figure.Figure at 0x229143414e0>"
      ]
     },
     "metadata": {},
     "output_type": "display_data"
    }
   ],
   "source": [
    "cuts = [i*100 for i in range(121)]\n",
    "grouped_by_length = df.groupby(pd.cut(df.lengths, cuts)).count()\n",
    "\n",
    "grouped_by_length['lengths'].describe()\n",
    "grouped_by_length['lengths'].plot(logx=True)"
   ]
  },
  {
   "cell_type": "markdown",
   "metadata": {},
   "source": [
    "To avoid truncating any strings, I'd have to pad all of them to a length of 119388.  However, most of the text samples are less than 1/10th that length, so padding to that length would be ridiculous.\n",
    "\n",
    "I believe a better approach will be to split the text into substrings padded to 128 characters. This should be sufficiently long to contain multiple word breaks per sample while not taking too long to train on my poor abused laptop"
   ]
  },
  {
   "cell_type": "code",
   "execution_count": 18,
   "metadata": {
    "collapsed": true
   },
   "outputs": [],
   "source": [
    "# convert the data samples to a single list of words\n",
    "all_text = \" \".join(df['text'].values.tolist()).split()"
   ]
  },
  {
   "cell_type": "code",
   "execution_count": 19,
   "metadata": {
    "collapsed": true
   },
   "outputs": [],
   "source": [
    "def generate_samples(word_list, max_length=128):\n",
    "    current_length = 0\n",
    "    current_list = []\n",
    "    for word in word_list:\n",
    "        wl = len(word)\n",
    "        \n",
    "        if current_length + wl >= max_length:\n",
    "            yield current_list\n",
    "            current_length = 0\n",
    "            current_list = []\n",
    "            \n",
    "        current_length += wl\n",
    "        current_list.append(word)\n",
    "        \n",
    "# joining with space will make the strings longer than 128 characters\n",
    "# but this is fine since they'll be removed later and I'll need them \n",
    "# to convert the samples to labels\n",
    "samples = [' '.join(sample) for sample in generate_samples(all_text)]"
   ]
  },
  {
   "cell_type": "code",
   "execution_count": 42,
   "metadata": {},
   "outputs": [
    {
     "name": "stdout",
     "output_type": "stream",
     "text": [
      "นาโนเซนเซอร์,\"นาโน เซนเซอร์ นาโน เซนเซอร์ เป็น เทคโนโลยี ที่ ใช้ ใน การ ตรวจ วัด ได้ ใน หลากหลาย รูปแบบ เช่น ตรวจ ของ สะสม ใน ร่างกาย ตรวจ แอลกอฮอล์ ใน\n",
      "Sample 0 length: 151\n",
      "Total Samples: 1131039\n"
     ]
    }
   ],
   "source": [
    "print(samples[0])\n",
    "print(f'Sample 0 length: {len(samples[0])}')\n",
    "print(f'Total Samples: {len(samples)}')"
   ]
  },
  {
   "cell_type": "markdown",
   "metadata": {},
   "source": [
    "At this point, samples is a list containing strings slightly above 128 characters long.  The next step will remove the spaces and pad the strings to 128 characters exactly, but first, always save your data kids."
   ]
  },
  {
   "cell_type": "code",
   "execution_count": 44,
   "metadata": {},
   "outputs": [],
   "source": [
    "np.save(f'{base_url}/all_samples.npy', samples)"
   ]
  },
  {
   "cell_type": "markdown",
   "metadata": {},
   "source": [
    "## Processing the samples\n",
    "\n",
    "Since the purpose of this model will be to add spaces to thai text, I'll need to remove all the spaces from the training samples.\n",
    "\n",
    "Afterwards, I'll pad all samples to the same length, convert each character to an integer encoding, then finally convert each integer to a 1-hot array"
   ]
  },
  {
   "cell_type": "code",
   "execution_count": 21,
   "metadata": {},
   "outputs": [],
   "source": [
    "from keras.preprocessing.sequence import pad_sequences\n",
    "\n",
    "if not os.path.isfile(f'{base_url}/train_X.npy'):\n",
    "    def thai_text_to_vec(sample, char_to_int_dict, num_classes=None):\n",
    "        \"\"\"\n",
    "        Accepts a string of thai text and converts it to an\n",
    "        array of 1-hot vectors using map_dict to encode\n",
    "        \"\"\"\n",
    "        if num_classes is None:\n",
    "            num_classes = len(char_to_int_dict)\n",
    "\n",
    "        int_seq = [char_to_int_dict[c] for c in sample] \n",
    "\n",
    "        return int_seq\n",
    "\n",
    "    num_classes = len(char_to_int)\n",
    "    inputs = [s.replace(' ', '') for s in samples]\n",
    "    inputs = [thai_text_to_vec(s, char_to_int, num_classes) for s in inputs]\n",
    "\n",
    "    input_padded = pad_sequences(inputs,\n",
    "                                maxlen=128, padding='post', truncating='post')\n",
    "\n",
    "    # saving the sequences for later\n",
    "    np.save(os.path.join(base_url, 'train_X.npy'), input_padded[:-30000])\n",
    "    # last 30000 examples for validation and testing\n",
    "    np.save(os.path.join(base_url, 'validation_X.npy'), input_padded[-30000:-15000])\n",
    "    np.save(os.path.join(base_url, 'test_X.npy'), input_padded[-15000:])"
   ]
  },
  {
   "cell_type": "markdown",
   "metadata": {},
   "source": [
    "## Creating the labels\n",
    "\n",
    "I'll need to create the target vectors from the input.  To indicate spaces, I'll convert each word to an array with a 1 indicating the word start and 0 otherwise"
   ]
  },
  {
   "cell_type": "code",
   "execution_count": 46,
   "metadata": {},
   "outputs": [],
   "source": [
    "if not os.path.isfile(f'{base_url}/train_y.npy'):\n",
    "# string replace all space+word start combos with 1s, all other with 0s\n",
    "    def convert_samples_to_labels(samples):\n",
    "        for sample in samples:\n",
    "            label = np.zeros(128)\n",
    "            tokens = sample.split(' ')\n",
    "            idx = 0\n",
    "\n",
    "            for token in tokens:\n",
    "                label[idx] = 1\n",
    "                idx += len(token)\n",
    "\n",
    "            yield label\n",
    "\n",
    "    label_gen = convert_samples_to_labels(samples)\n",
    "\n",
    "    labels = [label for label in label_gen]\n",
    "\n",
    "    print(''.join(labels[1000]))\n",
    "\n",
    "    # save labels to disk for later\n",
    "    np.save(os.path.join(base_url, 'train_y'), labels[:-30000])\n",
    "    np.save(os.path.join(base_url, 'validation_y'), labels[-30000:-15000])\n",
    "    np.save(os.path.join(base_url, 'test_y'), labels[-15000:])"
   ]
  },
  {
   "cell_type": "code",
   "execution_count": 55,
   "metadata": {},
   "outputs": [
    {
     "name": "stdout",
     "output_type": "stream",
     "text": [
      "[1 0 0 1 0 0 1 0 1 0 0 0 0 0 0 1 1 1 1 1 0 0 0 0 1 0 0 0 0 1 0 0 0 0 1 1 0\n",
      " 0 0 1 0 0 0 1 0 0 1 0 0 1 0 0 0 0 0 1 0 0 0 1 0 0 0 1 0 0 0 1 0 0 0 0 0 0\n",
      " 0 1 0 0 0 1 0 0 0 0 1 0 0 1 0 1 0 0 0 1 0 0 0 0 1 0 0 0 0 0 1 0 1 0 0 0 1\n",
      " 0 0 1 0 1 0 0 0 0 0 0 0 0 0 0 0 0]\n"
     ]
    }
   ],
   "source": [
    "example = labels[1000]\n",
    "print(example.astype('int'))"
   ]
  },
  {
   "cell_type": "markdown",
   "metadata": {},
   "source": [
    "And that's all for today.  Tomorrow I'll see whether this data setup will work well or not"
   ]
  },
  {
   "cell_type": "code",
   "execution_count": null,
   "metadata": {
    "collapsed": true
   },
   "outputs": [],
   "source": []
  }
 ],
 "metadata": {
  "kernelspec": {
   "display_name": "Python 3",
   "language": "python",
   "name": "python3"
  },
  "language_info": {
   "codemirror_mode": {
    "name": "ipython",
    "version": 3
   },
   "file_extension": ".py",
   "mimetype": "text/x-python",
   "name": "python",
   "nbconvert_exporter": "python",
   "pygments_lexer": "ipython3",
   "version": "3.6.1"
  }
 },
 "nbformat": 4,
 "nbformat_minor": 2
}
