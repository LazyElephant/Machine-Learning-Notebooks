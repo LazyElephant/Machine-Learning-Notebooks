{
 "cells": [
  {
   "cell_type": "code",
   "execution_count": null,
   "metadata": {
    "collapsed": true
   },
   "outputs": [],
   "source": [
    "import numpy as np\n",
    "import pandas as pd\n",
    "import os\n",
    "\n",
    "%matplotlib inline\n",
    "\n",
    "base_url = \"datasets/thai-modified\""
   ]
  },
  {
   "cell_type": "code",
   "execution_count": 38,
   "metadata": {},
   "outputs": [],
   "source": [
    "all_text = np.load('datasets/thai/all_samples.npy')\n",
    "df = pd.DataFrame(all_text, columns=['text'])"
   ]
  },
  {
   "cell_type": "code",
   "execution_count": 39,
   "metadata": {},
   "outputs": [
    {
     "data": {
      "text/html": [
       "<div>\n",
       "<style>\n",
       "    .dataframe thead tr:only-child th {\n",
       "        text-align: right;\n",
       "    }\n",
       "\n",
       "    .dataframe thead th {\n",
       "        text-align: left;\n",
       "    }\n",
       "\n",
       "    .dataframe tbody tr th {\n",
       "        vertical-align: top;\n",
       "    }\n",
       "</style>\n",
       "<table border=\"1\" class=\"dataframe\">\n",
       "  <thead>\n",
       "    <tr style=\"text-align: right;\">\n",
       "      <th></th>\n",
       "      <th>text</th>\n",
       "    </tr>\n",
       "  </thead>\n",
       "  <tbody>\n",
       "    <tr>\n",
       "      <th>0</th>\n",
       "      <td>นาโนเซนเซอร์,\"นาโน เซนเซอร์ นาโน เซนเซอร์ เป็น...</td>\n",
       "    </tr>\n",
       "    <tr>\n",
       "      <th>1</th>\n",
       "      <td>เลือด และ จมูก อิเล็กทรอนิกส์ ที่ ใช้ ตรวจสอบ ...</td>\n",
       "    </tr>\n",
       "    <tr>\n",
       "      <th>2</th>\n",
       "      <td>รั่ว ไอ้ แมง ปอ แมน ฮีโร่ ซุปเปอร์ รั่ว เป็น ภ...</td>\n",
       "    </tr>\n",
       "    <tr>\n",
       "      <th>3</th>\n",
       "      <td>ซุ่มซ่าม ที่ บังเอิญ โดน แมลงปอ ใน ห้อง วิทยาศ...</td>\n",
       "    </tr>\n",
       "    <tr>\n",
       "      <th>4</th>\n",
       "      <td>ทำให้ เกิด เรื่อง ฮา ๆ ขึ้น มา อีก เป็น ขบวน\" ...</td>\n",
       "    </tr>\n",
       "  </tbody>\n",
       "</table>\n",
       "</div>"
      ],
      "text/plain": [
       "                                                text\n",
       "0  นาโนเซนเซอร์,\"นาโน เซนเซอร์ นาโน เซนเซอร์ เป็น...\n",
       "1  เลือด และ จมูก อิเล็กทรอนิกส์ ที่ ใช้ ตรวจสอบ ...\n",
       "2  รั่ว ไอ้ แมง ปอ แมน ฮีโร่ ซุปเปอร์ รั่ว เป็น ภ...\n",
       "3  ซุ่มซ่าม ที่ บังเอิญ โดน แมลงปอ ใน ห้อง วิทยาศ...\n",
       "4  ทำให้ เกิด เรื่อง ฮา ๆ ขึ้น มา อีก เป็น ขบวน\" ..."
      ]
     },
     "execution_count": 39,
     "metadata": {},
     "output_type": "execute_result"
    }
   ],
   "source": [
    "df.head()"
   ]
  },
  {
   "cell_type": "code",
   "execution_count": 40,
   "metadata": {},
   "outputs": [
    {
     "data": {
      "text/plain": [
       "array(['นาโนเซนเซอร์,\"นาโน เซนเซอร์ นาโน เซนเซอร์ เป็น เทคโนโลยี ที่ ใช้ ใน การ ตรวจ วัด ได้ ใน หลากหลาย รูปแบบ เช่น ตรวจ ของ สะสม ใน ร่างกาย ตรวจ แอลกอฮอล์ ใน',\n",
       "       'เลือด และ จมูก อิเล็กทรอนิกส์ ที่ ใช้ ตรวจสอบ กลิ่น ที่ มนุษย์ ไม่ อาจ รับ กลิ่น ได้\" ไอ้แมงปอแมน ฮีโร่ซุปเปอร์รั่ว,\"ไอ้ แมง ปอ แมน ฮีโร่ ซุปเปอร์',\n",
       "       'รั่ว ไอ้ แมง ปอ แมน ฮีโร่ ซุปเปอร์ รั่ว เป็น ภาพยนตร์ แนว ตลก ล้อเลียน หนัง ดัง ๆ หลาย เรื่อง โดย เนื้อเรื่อง เล่า ถึง ริ ค หนุ่ม น้อยหน้า ละอ่อน จอม',\n",
       "       'ซุ่มซ่าม ที่ บังเอิญ โดน แมลงปอ ใน ห้อง วิทยาศาสตร์ กัด จึง ทำให้ เขา มี พลัง เหนือ มนุษย์ เพื่อ คอย ปราบ เหล่า ร้าย แต่ เพราะ ความ ซุ่มซ่าม ของ เขา จึง',\n",
       "       'ทำให้ เกิด เรื่อง ฮา ๆ ขึ้น มา อีก เป็น ขบวน\" โบเลโร (ราแวล),\"โบ เล โร ( รา แวล ) โบ เล โร เป็น ผล งาน ประพันธ์ สำหรับ บรรเลง ด้วย วง ออร์ เคส ตรา โดย มอ ริ ส รา'],\n",
       "      dtype='<U782')"
      ]
     },
     "execution_count": 40,
     "metadata": {},
     "output_type": "execute_result"
    }
   ],
   "source": [
    "all_text[0:5]"
   ]
  },
  {
   "cell_type": "code",
   "execution_count": 41,
   "metadata": {
    "scrolled": false
   },
   "outputs": [],
   "source": [
    "texts = all_text.tolist()\n",
    "characters = pd.DataFrame(sorted(set(''.join(texts))), columns=['original'])\n",
    "characters['mapped'] = 'u'"
   ]
  },
  {
   "cell_type": "markdown",
   "metadata": {},
   "source": [
    "## Cleaning\n",
    "\n",
    "In this iteration of the thai tokenizer, I'm going to drastically reduce the number of unique characters.\n",
    "\n",
    "* Thai characters: remain in the set (obviously)\n",
    "* Other language characters: will be marked as u for unknown - this will be the default mark for any character which isn't in the set\n",
    "* Numbers 0-9: will be marked as n for number\n",
    "* All punctuation marks: will be marked as p for punctuation"
   ]
  },
  {
   "cell_type": "code",
   "execution_count": 43,
   "metadata": {},
   "outputs": [],
   "source": [
    "# thai characters\n",
    "characters.iloc[153:239, 1] = characters.iloc[153:239, 0]\n",
    "# numbers\n",
    "characters.iloc[16:26, 1] = 'n'\n",
    "#punctuation\n",
    "characters.iloc[np.r_[1:16, 26:31, 57:63, 89:105], 1] = 'p'"
   ]
  },
  {
   "cell_type": "code",
   "execution_count": 44,
   "metadata": {},
   "outputs": [],
   "source": [
    "#remove all 'u' entries\n",
    "characters = characters[characters['mapped'] != 'u']\n",
    "final_characters = characters.reset_index(drop=True)"
   ]
  },
  {
   "cell_type": "code",
   "execution_count": 45,
   "metadata": {
    "collapsed": true
   },
   "outputs": [],
   "source": [
    "char_to_symbol = dict(zip(characters['original'], characters['mapped']))\n",
    "\n",
    "char_to_symbol[' '] = ' '"
   ]
  },
  {
   "cell_type": "code",
   "execution_count": 46,
   "metadata": {
    "scrolled": true
   },
   "outputs": [
    {
     "data": {
      "text/plain": [
       "{' ': 0,\n",
       " 'n': 1,\n",
       " 'p': 2,\n",
       " 'u': 3,\n",
       " 'ก': 4,\n",
       " 'ข': 5,\n",
       " 'ฃ': 6,\n",
       " 'ค': 7,\n",
       " 'ฅ': 8,\n",
       " 'ฆ': 9,\n",
       " 'ง': 10,\n",
       " 'จ': 11,\n",
       " 'ฉ': 12,\n",
       " 'ช': 13,\n",
       " 'ซ': 14,\n",
       " 'ฌ': 15,\n",
       " 'ญ': 16,\n",
       " 'ฎ': 17,\n",
       " 'ฏ': 18,\n",
       " 'ฐ': 19,\n",
       " 'ฑ': 20,\n",
       " 'ฒ': 21,\n",
       " 'ณ': 22,\n",
       " 'ด': 23,\n",
       " 'ต': 24,\n",
       " 'ถ': 25,\n",
       " 'ท': 26,\n",
       " 'ธ': 27,\n",
       " 'น': 28,\n",
       " 'บ': 29,\n",
       " 'ป': 30,\n",
       " 'ผ': 31,\n",
       " 'ฝ': 32,\n",
       " 'พ': 33,\n",
       " 'ฟ': 34,\n",
       " 'ภ': 35,\n",
       " 'ม': 36,\n",
       " 'ย': 37,\n",
       " 'ร': 38,\n",
       " 'ฤ': 39,\n",
       " 'ล': 40,\n",
       " 'ฦ': 41,\n",
       " 'ว': 42,\n",
       " 'ศ': 43,\n",
       " 'ษ': 44,\n",
       " 'ส': 45,\n",
       " 'ห': 46,\n",
       " 'ฬ': 47,\n",
       " 'อ': 48,\n",
       " 'ฮ': 49,\n",
       " 'ฯ': 50,\n",
       " 'ะ': 51,\n",
       " 'ั': 52,\n",
       " 'า': 53,\n",
       " 'ำ': 54,\n",
       " 'ิ': 55,\n",
       " 'ี': 56,\n",
       " 'ึ': 57,\n",
       " 'ื': 58,\n",
       " 'ุ': 59,\n",
       " 'ู': 60,\n",
       " 'ฺ': 61,\n",
       " '฿': 62,\n",
       " 'เ': 63,\n",
       " 'แ': 64,\n",
       " 'โ': 65,\n",
       " 'ใ': 66,\n",
       " 'ไ': 67,\n",
       " 'ๅ': 68,\n",
       " 'ๆ': 69,\n",
       " '็': 70,\n",
       " '่': 71,\n",
       " '้': 72,\n",
       " '๊': 73,\n",
       " '๋': 74,\n",
       " '์': 75,\n",
       " 'ํ': 76,\n",
       " '๎': 77,\n",
       " '๏': 78,\n",
       " '๐': 79,\n",
       " '๑': 80,\n",
       " '๒': 81,\n",
       " '๓': 82,\n",
       " '๔': 83,\n",
       " '๕': 84,\n",
       " '๖': 85,\n",
       " '๗': 86,\n",
       " '๘': 87,\n",
       " '๙': 88,\n",
       " '๚': 89}"
      ]
     },
     "execution_count": 46,
     "metadata": {},
     "output_type": "execute_result"
    }
   ],
   "source": [
    "unique_characters = sorted({' ','u'}.union(final_characters['mapped'].values))\n",
    "\n",
    "char_to_int = {v: i for i, v in enumerate(unique_characters)}\n",
    "char_to_int"
   ]
  },
  {
   "cell_type": "markdown",
   "metadata": {},
   "source": [
    "The 90 unique characters in this version is a large improvement over the 261 in the previous one."
   ]
  },
  {
   "cell_type": "markdown",
   "metadata": {},
   "source": [
    "## Processing the samples\n",
    "\n",
    "This will be a 3-step process.  First, all non-thai characters are mapped to their replacement values ('p', 'n', 'u').  Then, all spaces are removed.  Finally, each string is converted to an array of ints to feed into the model."
   ]
  },
  {
   "cell_type": "code",
   "execution_count": 47,
   "metadata": {
    "collapsed": true
   },
   "outputs": [],
   "source": [
    "def map_characters_to_symbols(text_string, char_to_symbol=char_to_symbol):\n",
    "    new_text = [char_to_symbol[c] if c in char_to_symbol\n",
    "                    else 'u' for c in text_string]\n",
    "    return ''.join(new_text)"
   ]
  },
  {
   "cell_type": "code",
   "execution_count": 48,
   "metadata": {},
   "outputs": [],
   "source": [
    "text_with_symbols = [map_characters_to_symbols(s) for s in all_text]"
   ]
  },
  {
   "cell_type": "code",
   "execution_count": 49,
   "metadata": {},
   "outputs": [
    {
     "data": {
      "text/plain": [
       "'ช่วง พ p ศ p nnn p nnnp p หรือ ราวๆ ช่วง ก่อน คริสต์ศักราช nnn ปี p ค p ศ p nnnp และ ล่มสลาย มา เป็น ยุค สาม ก๊ก p ราวๆ พ p ศ p nnn p nnnpp หรือๆ ค p ศ p nnn p nnnp มี'"
      ]
     },
     "execution_count": 49,
     "metadata": {},
     "output_type": "execute_result"
    }
   ],
   "source": [
    "text_with_symbols[100]"
   ]
  },
  {
   "cell_type": "code",
   "execution_count": 50,
   "metadata": {},
   "outputs": [],
   "source": [
    "text_with_spaces_removed = [''.join(text.split()) for text in text_with_symbols]"
   ]
  },
  {
   "cell_type": "code",
   "execution_count": 51,
   "metadata": {},
   "outputs": [
    {
     "data": {
      "text/plain": [
       "'ช่วงพpศpnnnpnnnppหรือราวๆช่วงก่อนคริสต์ศักราชnnnปีpคpศpnnnpและล่มสลายมาเป็นยุคสามก๊กpราวๆพpศpnnnpnnnppหรือๆคpศpnnnpnnnpมี'"
      ]
     },
     "execution_count": 51,
     "metadata": {},
     "output_type": "execute_result"
    }
   ],
   "source": [
    "text_with_spaces_removed[100]"
   ]
  },
  {
   "cell_type": "code",
   "execution_count": 52,
   "metadata": {
    "collapsed": true
   },
   "outputs": [],
   "source": [
    "def map_symbols_to_ints(symbol_string, symbol_map=char_to_int):\n",
    "    int_array = [symbol_map[c] for c in symbol_string]\n",
    "    return int_array"
   ]
  },
  {
   "cell_type": "code",
   "execution_count": 64,
   "metadata": {
    "collapsed": true
   },
   "outputs": [],
   "source": [
    "from keras.preprocessing.sequence import pad_sequences\n",
    "\n",
    "final_samples = [map_symbols_to_ints(string) \n",
    "                     for string in text_with_spaces_removed]\n",
    "final_samples = pad_sequences(final_samples, maxlen=128)"
   ]
  },
  {
   "cell_type": "markdown",
   "metadata": {},
   "source": [
    "## Creating labels\n",
    "\n",
    "Like last time, we'll convert any combination of 'space + character' to a 1 and everything else to a 0."
   ]
  },
  {
   "cell_type": "code",
   "execution_count": 65,
   "metadata": {
    "collapsed": true
   },
   "outputs": [],
   "source": [
    "import re\n",
    "\n",
    "def text_to_label(text):\n",
    "    # match all spaces followed by non-whitespace\n",
    "    add_ones = re.compile('\\s+[^ ]')\n",
    "    text_with_ones = add_ones.sub('1', text)\n",
    "    label = [1 if c == '1' else 0 for c in text_with_ones]\n",
    "    return label"
   ]
  },
  {
   "cell_type": "code",
   "execution_count": 103,
   "metadata": {
    "collapsed": true
   },
   "outputs": [],
   "source": [
    "final_labels = [text_to_label(string) for string in text_with_symbols]\n",
    "final_labels = pad_sequences(final_labels, maxlen=128)\n",
    "m = len(final_labels)\n",
    "final_labels = np.reshape(final_labels, (m, 128, 1))"
   ]
  },
  {
   "cell_type": "markdown",
   "metadata": {},
   "source": [
    "## Building the model"
   ]
  },
  {
   "cell_type": "code",
   "execution_count": 105,
   "metadata": {},
   "outputs": [],
   "source": [
    "if not os.path.isfile(f'{base_url}/x_train.npy'):\n",
    "    x_train = final_samples[:1000000,:]\n",
    "    x_test = final_samples[1000000:,:]\n",
    "    y_train = final_labels[:1000000,:]\n",
    "    y_test = final_labels[1000000:,:]\n",
    "    np.save(f'{base_url}/x_train.npy', x_train)\n",
    "    np.save(f'{base_url}/x_test.npy', x_test)    \n",
    "    np.save(f'{base_url}/y_train.npy', y_train)    \n",
    "    np.save(f'{base_url}/y_test.npy', y_test)   \n",
    "else:\n",
    "    x_train = np.load(f'{base_url}/x_train.npy')\n",
    "    x_test = np.load(f'{base_url}/x_test.npy')    \n",
    "    y_train = np.load(f'{base_url}/y_train.npy')    \n",
    "    y_test = np.load(f'{base_url}/y_test.npy')   "
   ]
  },
  {
   "cell_type": "code",
   "execution_count": 106,
   "metadata": {},
   "outputs": [],
   "source": [
    "from keras.layers import Embedding, Input, LSTM, Dense, Bidirectional\n",
    "from keras.models import Model\n",
    "\n",
    "def build_model():\n",
    "    inputs = Input((128,))\n",
    "    outputs = Embedding(90, 32)(inputs)\n",
    "    outputs = Bidirectional(LSTM(64, return_sequences=True))(outputs)\n",
    "    outputs = Dense(1, activation='sigmoid')(outputs)\n",
    "    \n",
    "    model = Model(inputs=inputs, outputs=outputs)\n",
    "    model.compile(optimizer='adam', loss='binary_crossentropy', metrics=['acc'])\n",
    "    \n",
    "    return model\n",
    "    "
   ]
  },
  {
   "cell_type": "code",
   "execution_count": 111,
   "metadata": {},
   "outputs": [
    {
     "name": "stdout",
     "output_type": "stream",
     "text": [
      "_________________________________________________________________\n",
      "Layer (type)                 Output Shape              Param #   \n",
      "=================================================================\n",
      "input_12 (InputLayer)        (None, 128)               0         \n",
      "_________________________________________________________________\n",
      "embedding_12 (Embedding)     (None, 128, 32)           2880      \n",
      "_________________________________________________________________\n",
      "bidirectional_12 (Bidirectio (None, 128, 128)          49664     \n",
      "_________________________________________________________________\n",
      "dense_10 (Dense)             (None, 128, 1)            129       \n",
      "=================================================================\n",
      "Total params: 52,673\n",
      "Trainable params: 52,673\n",
      "Non-trainable params: 0\n",
      "_________________________________________________________________\n"
     ]
    }
   ],
   "source": [
    "model = build_model()\n",
    "model.summary()"
   ]
  },
  {
   "cell_type": "code",
   "execution_count": 112,
   "metadata": {
    "scrolled": true
   },
   "outputs": [
    {
     "name": "stdout",
     "output_type": "stream",
     "text": [
      "Train on 990000 samples, validate on 10000 samples\n",
      "Epoch 1/20\n",
      "990000/990000 [==============================] - 1166s 1ms/step - loss: 0.1644 - acc: 0.9329 - val_loss: 0.0973 - val_acc: 0.9631\n",
      "Epoch 2/20\n",
      "990000/990000 [==============================] - 1155s 1ms/step - loss: 0.0845 - acc: 0.9683 - val_loss: 0.0767 - val_acc: 0.9715\n",
      "Epoch 3/20\n",
      "990000/990000 [==============================] - 1194s 1ms/step - loss: 0.0717 - acc: 0.9738 - val_loss: 0.0683 - val_acc: 0.9750\n",
      "Epoch 4/20\n",
      "990000/990000 [==============================] - 1193s 1ms/step - loss: 0.0652 - acc: 0.9765 - val_loss: 0.0635 - val_acc: 0.9771\n",
      "Epoch 5/20\n",
      "990000/990000 [==============================] - 1193s 1ms/step - loss: 0.0608 - acc: 0.9782 - val_loss: 0.0600 - val_acc: 0.9785\n",
      "Epoch 6/20\n",
      "990000/990000 [==============================] - 1193s 1ms/step - loss: 0.0578 - acc: 0.9793 - val_loss: 0.0574 - val_acc: 0.9794\n",
      "Epoch 7/20\n",
      "990000/990000 [==============================] - 1178s 1ms/step - loss: 0.0554 - acc: 0.9803 - val_loss: 0.0556 - val_acc: 0.9801\n",
      "Epoch 8/20\n",
      "990000/990000 [==============================] - 1193s 1ms/step - loss: 0.0536 - acc: 0.9810 - val_loss: 0.0539 - val_acc: 0.9807\n",
      "Epoch 9/20\n",
      "990000/990000 [==============================] - 1193s 1ms/step - loss: 0.0521 - acc: 0.9816 - val_loss: 0.0526 - val_acc: 0.9813\n",
      "Epoch 10/20\n",
      "990000/990000 [==============================] - 1192s 1ms/step - loss: 0.0509 - acc: 0.9821 - val_loss: 0.0515 - val_acc: 0.9818\n",
      "Epoch 11/20\n",
      "990000/990000 [==============================] - 1191s 1ms/step - loss: 0.0498 - acc: 0.9825 - val_loss: 0.0505 - val_acc: 0.9823\n",
      "Epoch 12/20\n",
      "990000/990000 [==============================] - 1192s 1ms/step - loss: 0.0490 - acc: 0.9828 - val_loss: 0.0498 - val_acc: 0.9824\n",
      "Epoch 13/20\n",
      "990000/990000 [==============================] - 1192s 1ms/step - loss: 0.0482 - acc: 0.9831 - val_loss: 0.0492 - val_acc: 0.9827\n",
      "Epoch 14/20\n",
      "990000/990000 [==============================] - 1190s 1ms/step - loss: 0.0475 - acc: 0.9834 - val_loss: 0.0486 - val_acc: 0.9830\n",
      "Epoch 15/20\n",
      "990000/990000 [==============================] - 1191s 1ms/step - loss: 0.0469 - acc: 0.9836 - val_loss: 0.0484 - val_acc: 0.9829\n",
      "Epoch 16/20\n",
      "990000/990000 [==============================] - 1190s 1ms/step - loss: 0.0464 - acc: 0.9838 - val_loss: 0.0477 - val_acc: 0.9832\n",
      "Epoch 17/20\n",
      "990000/990000 [==============================] - 1186s 1ms/step - loss: 0.0459 - acc: 0.9840 - val_loss: 0.0473 - val_acc: 0.9835\n",
      "Epoch 18/20\n",
      "990000/990000 [==============================] - 1192s 1ms/step - loss: 0.0455 - acc: 0.9842 - val_loss: 0.0468 - val_acc: 0.9836\n",
      "Epoch 19/20\n",
      "990000/990000 [==============================] - 1191s 1ms/step - loss: 0.0451 - acc: 0.9843 - val_loss: 0.0466 - val_acc: 0.9836\n",
      "Epoch 20/20\n",
      "990000/990000 [==============================] - 1191s 1ms/step - loss: 0.0447 - acc: 0.9845 - val_loss: 0.0460 - val_acc: 0.9839\n"
     ]
    }
   ],
   "source": [
    "history = model.fit(x_train, y_train, epochs=20, batch_size=512, validation_split=0.01)"
   ]
  },
  {
   "cell_type": "code",
   "execution_count": null,
   "metadata": {},
   "outputs": [],
   "source": []
  },
  {
   "cell_type": "code",
   "execution_count": 133,
   "metadata": {
    "collapsed": true
   },
   "outputs": [],
   "source": [
    "from keras.layers import Conv1D, MaxPooling1D, Permute, Reshape\n",
    "\n",
    "def build_cnn_model():\n",
    "    inputs = Input((128,))\n",
    "    outputs = Reshape((128, 1))(inputs)\n",
    "    outputs = Conv1D(16, 9, activation='relu')(outputs)\n",
    "    outputs = MaxPooling1D()(outputs)\n",
    "    outputs = Conv1D(16, 9, activation='relu')(outputs)\n",
    "    outputs = MaxPooling1D()(outputs)\n",
    "    outputs = Conv1D(16, 9, activation='relu')(outputs)\n",
    "    outputs = MaxPooling1D()(outputs)\n",
    "    outputs = Conv1D(128, 9, activation='sigmoid')(outputs)\n",
    "    outputs = Permute((2,1))(outputs)\n",
    "    \n",
    "    model = Model(inputs=inputs, outputs=outputs)\n",
    "    model.compile(loss='binary_crossentropy', optimizer='adam', metrics=['acc'])\n",
    "    return model"
   ]
  },
  {
   "cell_type": "code",
   "execution_count": 134,
   "metadata": {},
   "outputs": [
    {
     "name": "stdout",
     "output_type": "stream",
     "text": [
      "_________________________________________________________________\n",
      "Layer (type)                 Output Shape              Param #   \n",
      "=================================================================\n",
      "input_23 (InputLayer)        (None, 128)               0         \n",
      "_________________________________________________________________\n",
      "reshape_5 (Reshape)          (None, 128, 1)            0         \n",
      "_________________________________________________________________\n",
      "conv1d_22 (Conv1D)           (None, 120, 16)           160       \n",
      "_________________________________________________________________\n",
      "max_pooling1d_18 (MaxPooling (None, 60, 16)            0         \n",
      "_________________________________________________________________\n",
      "conv1d_23 (Conv1D)           (None, 52, 16)            2320      \n",
      "_________________________________________________________________\n",
      "max_pooling1d_19 (MaxPooling (None, 26, 16)            0         \n",
      "_________________________________________________________________\n",
      "conv1d_24 (Conv1D)           (None, 18, 16)            2320      \n",
      "_________________________________________________________________\n",
      "max_pooling1d_20 (MaxPooling (None, 9, 16)             0         \n",
      "_________________________________________________________________\n",
      "conv1d_25 (Conv1D)           (None, 1, 128)            18560     \n",
      "_________________________________________________________________\n",
      "permute_2 (Permute)          (None, 128, 1)            0         \n",
      "=================================================================\n",
      "Total params: 23,360\n",
      "Trainable params: 23,360\n",
      "Non-trainable params: 0\n",
      "_________________________________________________________________\n"
     ]
    }
   ],
   "source": [
    "cnn_model = build_cnn_model()\n",
    "cnn_model.summary()"
   ]
  },
  {
   "cell_type": "code",
   "execution_count": 135,
   "metadata": {
    "scrolled": true
   },
   "outputs": [
    {
     "name": "stdout",
     "output_type": "stream",
     "text": [
      "Train on 990000 samples, validate on 10000 samples\n",
      "Epoch 1/20\n",
      "990000/990000 [==============================] - 44s 44us/step - loss: 0.5380 - acc: 0.7617 - val_loss: 0.5314 - val_acc: 0.7634\n",
      "Epoch 2/20\n",
      "990000/990000 [==============================] - 38s 39us/step - loss: 0.5153 - acc: 0.7682 - val_loss: 0.5041 - val_acc: 0.7730\n",
      "Epoch 3/20\n",
      "990000/990000 [==============================] - 39s 39us/step - loss: 0.4938 - acc: 0.7793 - val_loss: 0.4884 - val_acc: 0.7821\n",
      "Epoch 4/20\n",
      "990000/990000 [==============================] - 39s 39us/step - loss: 0.4806 - acc: 0.7867 - val_loss: 0.4775 - val_acc: 0.7881\n",
      "Epoch 5/20\n",
      "990000/990000 [==============================] - 38s 39us/step - loss: 0.4719 - acc: 0.7914 - val_loss: 0.4708 - val_acc: 0.7915\n",
      "Epoch 6/20\n",
      "990000/990000 [==============================] - 39s 39us/step - loss: 0.4673 - acc: 0.7939 - val_loss: 0.4686 - val_acc: 0.7934\n",
      "Epoch 7/20\n",
      "990000/990000 [==============================] - 38s 39us/step - loss: 0.4642 - acc: 0.7956 - val_loss: 0.4646 - val_acc: 0.7950\n",
      "Epoch 8/20\n",
      "990000/990000 [==============================] - 38s 38us/step - loss: 0.4619 - acc: 0.7968 - val_loss: 0.4627 - val_acc: 0.7959\n",
      "Epoch 9/20\n",
      "990000/990000 [==============================] - 38s 38us/step - loss: 0.4593 - acc: 0.7980 - val_loss: 0.4602 - val_acc: 0.7967\n",
      "Epoch 10/20\n",
      "990000/990000 [==============================] - 39s 39us/step - loss: 0.4560 - acc: 0.7993 - val_loss: 0.4563 - val_acc: 0.7988\n",
      "Epoch 11/20\n",
      "990000/990000 [==============================] - 38s 39us/step - loss: 0.4514 - acc: 0.8014 - val_loss: 0.4523 - val_acc: 0.8004\n",
      "Epoch 12/20\n",
      "990000/990000 [==============================] - 39s 39us/step - loss: 0.4483 - acc: 0.8028 - val_loss: 0.4491 - val_acc: 0.8019\n",
      "Epoch 13/20\n",
      "990000/990000 [==============================] - 38s 39us/step - loss: 0.4455 - acc: 0.8037 - val_loss: 0.4462 - val_acc: 0.8029\n",
      "Epoch 14/20\n",
      "990000/990000 [==============================] - 39s 39us/step - loss: 0.4431 - acc: 0.8044 - val_loss: 0.4426 - val_acc: 0.8038\n",
      "Epoch 15/20\n",
      "990000/990000 [==============================] - 38s 39us/step - loss: 0.4403 - acc: 0.8052 - val_loss: 0.4404 - val_acc: 0.8047\n",
      "Epoch 16/20\n",
      "990000/990000 [==============================] - 39s 39us/step - loss: 0.4381 - acc: 0.8060 - val_loss: 0.4391 - val_acc: 0.8050\n",
      "Epoch 17/20\n",
      "990000/990000 [==============================] - 39s 39us/step - loss: 0.4366 - acc: 0.8064 - val_loss: 0.4370 - val_acc: 0.8060\n",
      "Epoch 18/20\n",
      "990000/990000 [==============================] - 39s 39us/step - loss: 0.4354 - acc: 0.8068 - val_loss: 0.4365 - val_acc: 0.8059\n",
      "Epoch 19/20\n",
      "990000/990000 [==============================] - 39s 39us/step - loss: 0.4345 - acc: 0.8070 - val_loss: 0.4357 - val_acc: 0.8063\n",
      "Epoch 20/20\n",
      "990000/990000 [==============================] - 39s 39us/step - loss: 0.4338 - acc: 0.8072 - val_loss: 0.4347 - val_acc: 0.8066\n"
     ]
    }
   ],
   "source": [
    "cnn_history = cnn_model.fit(x_train, y_train, epochs=20, batch_size=512, validation_split=0.01)"
   ]
  },
  {
   "cell_type": "code",
   "execution_count": 144,
   "metadata": {
    "collapsed": true
   },
   "outputs": [],
   "source": [
    "from keras.layers import Flatten\n",
    "\n",
    "def build_larger_cnn_model():\n",
    "    inputs = Input((128,))\n",
    "    outputs = Reshape((128, 1))(inputs)\n",
    "    outputs = Conv1D(32, 9, activation='relu')(outputs)\n",
    "    outputs = MaxPooling1D()(outputs)\n",
    "    outputs = Conv1D(32, 9, activation='relu')(outputs)\n",
    "    outputs = MaxPooling1D()(outputs)\n",
    "    outputs = Conv1D(32, 9, activation='relu')(outputs)\n",
    "    outputs = MaxPooling1D()(outputs)\n",
    "    outputs = Conv1D(128, 9, activation='relu')(outputs)\n",
    "    outputs = Flatten()(outputs)\n",
    "    outputs = Dense(128, activation='sigmoid')(outputs)\n",
    "    outputs = Reshape((128, 1))(outputs)\n",
    "    \n",
    "    model = Model(inputs=inputs, outputs=outputs)\n",
    "    model.compile(loss='binary_crossentropy', optimizer='adam', metrics=['acc'])\n",
    "    return model"
   ]
  },
  {
   "cell_type": "code",
   "execution_count": 145,
   "metadata": {},
   "outputs": [
    {
     "name": "stdout",
     "output_type": "stream",
     "text": [
      "_________________________________________________________________\n",
      "Layer (type)                 Output Shape              Param #   \n",
      "=================================================================\n",
      "input_27 (InputLayer)        (None, 128)               0         \n",
      "_________________________________________________________________\n",
      "reshape_10 (Reshape)         (None, 128, 1)            0         \n",
      "_________________________________________________________________\n",
      "conv1d_38 (Conv1D)           (None, 120, 32)           320       \n",
      "_________________________________________________________________\n",
      "max_pooling1d_30 (MaxPooling (None, 60, 32)            0         \n",
      "_________________________________________________________________\n",
      "conv1d_39 (Conv1D)           (None, 52, 32)            9248      \n",
      "_________________________________________________________________\n",
      "max_pooling1d_31 (MaxPooling (None, 26, 32)            0         \n",
      "_________________________________________________________________\n",
      "conv1d_40 (Conv1D)           (None, 18, 32)            9248      \n",
      "_________________________________________________________________\n",
      "max_pooling1d_32 (MaxPooling (None, 9, 32)             0         \n",
      "_________________________________________________________________\n",
      "conv1d_41 (Conv1D)           (None, 1, 128)            36992     \n",
      "_________________________________________________________________\n",
      "flatten_3 (Flatten)          (None, 128)               0         \n",
      "_________________________________________________________________\n",
      "dense_14 (Dense)             (None, 128)               16512     \n",
      "_________________________________________________________________\n",
      "reshape_11 (Reshape)         (None, 128, 1)            0         \n",
      "=================================================================\n",
      "Total params: 72,320\n",
      "Trainable params: 72,320\n",
      "Non-trainable params: 0\n",
      "_________________________________________________________________\n"
     ]
    }
   ],
   "source": [
    "larger_cnn = build_larger_cnn_model()\n",
    "larger_cnn.summary()"
   ]
  },
  {
   "cell_type": "code",
   "execution_count": 146,
   "metadata": {},
   "outputs": [
    {
     "name": "stdout",
     "output_type": "stream",
     "text": [
      "Train on 990000 samples, validate on 10000 samples\n",
      "Epoch 1/10\n",
      "990000/990000 [==============================] - 64s 64us/step - loss: 0.5320 - acc: 0.7623 - val_loss: 0.5109 - val_acc: 0.7686\n",
      "Epoch 2/10\n",
      "990000/990000 [==============================] - 57s 57us/step - loss: 0.4945 - acc: 0.7770 - val_loss: 0.4834 - val_acc: 0.7825\n",
      "Epoch 3/10\n",
      "990000/990000 [==============================] - 57s 58us/step - loss: 0.4687 - acc: 0.7910 - val_loss: 0.4591 - val_acc: 0.7965\n",
      "Epoch 4/10\n",
      "990000/990000 [==============================] - 57s 58us/step - loss: 0.4505 - acc: 0.8008 - val_loss: 0.4459 - val_acc: 0.8027\n",
      "Epoch 5/10\n",
      "990000/990000 [==============================] - 57s 58us/step - loss: 0.4386 - acc: 0.8064 - val_loss: 0.4351 - val_acc: 0.8079\n",
      "Epoch 6/10\n",
      "990000/990000 [==============================] - 57s 58us/step - loss: 0.4290 - acc: 0.8109 - val_loss: 0.4263 - val_acc: 0.8121\n",
      "Epoch 7/10\n",
      "990000/990000 [==============================] - 57s 57us/step - loss: 0.4213 - acc: 0.8145 - val_loss: 0.4209 - val_acc: 0.8148\n",
      "Epoch 8/10\n",
      "990000/990000 [==============================] - 57s 57us/step - loss: 0.4152 - acc: 0.8174 - val_loss: 0.4150 - val_acc: 0.8175\n",
      "Epoch 9/10\n",
      "990000/990000 [==============================] - 57s 57us/step - loss: 0.4102 - acc: 0.8197 - val_loss: 0.4100 - val_acc: 0.8197\n",
      "Epoch 10/10\n",
      "990000/990000 [==============================] - 57s 57us/step - loss: 0.4057 - acc: 0.8216 - val_loss: 0.4069 - val_acc: 0.8208\n"
     ]
    }
   ],
   "source": [
    "larger_cnn_history = larger_cnn.fit(x_train, y_train, epochs=10, batch_size=512, validation_split=0.01)"
   ]
  },
  {
   "cell_type": "code",
   "execution_count": 147,
   "metadata": {
    "collapsed": true
   },
   "outputs": [],
   "source": [
    "rnn_predictions = model.predict(x_test)\n",
    "cnn_predictions = cnn_model.predict(x_test)\n",
    "larger_cnn_predictions = larger_cnn.predict(x_test)"
   ]
  },
  {
   "cell_type": "code",
   "execution_count": 221,
   "metadata": {},
   "outputs": [],
   "source": [
    "rounded_rnn = np.round(rnn_predictions)\n",
    "rounded_cnn = np.round(cnn_predictions)\n",
    "rounded_lcnn = np.round(larger_cnn_predictions)"
   ]
  },
  {
   "cell_type": "code",
   "execution_count": 226,
   "metadata": {
    "collapsed": true
   },
   "outputs": [],
   "source": [
    "def precision_recall_f1(predictions, labels, pos_label=1):\n",
    "    indices = predictions == pos_label\n",
    "    total_pred_pos = np.sum(predictions[indices])\n",
    "    true_positives = np.sum(labels[indices])\n",
    "    total_real_pos = np.sum(labels)\n",
    "    \n",
    "    precision = true_positives/total_pred_pos\n",
    "    recall = true_positives/total_real_pos\n",
    "    f1 = 2 * precision * recall / (precision + recall)\n",
    "    \n",
    "    return precision, recall, f1"
   ]
  },
  {
   "cell_type": "code",
   "execution_count": 227,
   "metadata": {},
   "outputs": [],
   "source": [
    "rnn_metrics = precision_recall_f1(rounded_rnn, y_test)"
   ]
  },
  {
   "cell_type": "code",
   "execution_count": 228,
   "metadata": {},
   "outputs": [
    {
     "data": {
      "text/plain": [
       "(0.9718237453232462, 0.95978050863672, 0.9657645831742087)"
      ]
     },
     "execution_count": 228,
     "metadata": {},
     "output_type": "execute_result"
    }
   ],
   "source": [
    "rnn_metrics"
   ]
  },
  {
   "cell_type": "code",
   "execution_count": 229,
   "metadata": {},
   "outputs": [
    {
     "data": {
      "text/plain": [
       "(0.6997733034830442, 0.3352147831534876, 0.4532889976463012)"
      ]
     },
     "execution_count": 229,
     "metadata": {},
     "output_type": "execute_result"
    }
   ],
   "source": [
    "cnn_metrics = precision_recall_f1(rounded_cnn, y_test)\n",
    "cnn_metrics"
   ]
  },
  {
   "cell_type": "code",
   "execution_count": 230,
   "metadata": {},
   "outputs": [
    {
     "data": {
      "text/plain": [
       "(0.7182312070595263, 0.4078187545565842, 0.5202400716328881)"
      ]
     },
     "execution_count": 230,
     "metadata": {},
     "output_type": "execute_result"
    }
   ],
   "source": [
    "lcnn_metrics = precision_recall_f1(rounded_lcnn, y_test)\n",
    "lcnn_metrics"
   ]
  },
  {
   "cell_type": "code",
   "execution_count": 254,
   "metadata": {},
   "outputs": [
    {
     "data": {
      "image/png": "[encoded data removed]",
      "text/plain": [
       "<matplotlib.figure.Figure at 0x2173e09a978>"
      ]
     },
     "metadata": {},
     "output_type": "display_data"
    }
   ],
   "source": [
    "import matplotlib.pyplot as plt\n",
    "\n",
    "x = np.arange(3)\n",
    "y = np.arange(6) / 5\n",
    "\n",
    "plt.figure(figsize=(16,10))\n",
    "p1 = plt.bar(x, rnn_metrics, 0.2)\n",
    "p2 = plt.bar(x + 0.2, cnn_metrics, 0.2)\n",
    "p3 = plt.bar(x + 0.4, lcnn_metrics, 0.2)\n",
    "\n",
    "plt.title('Performance Metrics', fontsize=22)\n",
    "plt.xticks(x + 0.2, ('Precision', 'Recall', 'F1'), fontsize=22)\n",
    "plt.yticks(y, fontsize=22)\n",
    "plt.legend((p1[0], p2[0], p3[0]), ('RNN', 'CNN', 'Larger CNN'), fontsize=22)\n",
    "plt.show()"
   ]
  },
  {
   "cell_type": "markdown",
   "metadata": {},
   "source": [
    "## Results\n",
    "\n",
    "The rnn significantly outperformed the Conv1D models in all performance metrics, although training took 10 times longer."
   ]
  }
 ],
 "metadata": {
  "kernelspec": {
   "display_name": "Python 3",
   "language": "python",
   "name": "python3"
  },
  "language_info": {
   "codemirror_mode": {
    "name": "ipython",
    "version": 3
   },
   "file_extension": ".py",
   "mimetype": "text/x-python",
   "name": "python",
   "nbconvert_exporter": "python",
   "pygments_lexer": "ipython3",
   "version": "3.6.1"
  }
 },
 "nbformat": 4,
 "nbformat_minor": 2
}
